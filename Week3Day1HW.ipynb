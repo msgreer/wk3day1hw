{
 "cells": [
  {
   "cell_type": "code",
   "execution_count": null,
   "id": "df1c2af8",
   "metadata": {},
   "outputs": [],
   "source": [
    "### Regex project\n",
    "\n",
    "Use python to read the file regex_test.txt and print the last name on each line using regular expressions and groups (return None for names with no first and last name, or names that aren't properly capitalized)\n",
    "##### Hint: use with open() and readlines()"
   ]
  },
  {
   "cell_type": "code",
   "execution_count": 38,
   "id": "8bcd174b",
   "metadata": {},
   "outputs": [
    {
     "name": "stdout",
     "output_type": "stream",
     "text": [
      "Abraham Lincoln\n",
      "Andrew P Garfield\n",
      "Connor Milliken\n",
      "Jordan Alexander Williams\n",
      "None\n",
      "None\n"
     ]
    }
   ],
   "source": [
    "import re\n",
    "\n",
    "with open ('regex_test.txt') as f:\n",
    "    data = f.readlines()\n",
    "    \n",
    "    \n",
    "pat_list = re.compile('([A-Z]+[a-z]+) ([A-Z][a-z]*) ([A-Z]*[a-z]+)')\n",
    "pat_list2 = re.compile('([A-Z]+[a-z]+) ([A-Z]*[a-z]+)')\n",
    "for names in data:\n",
    "    match = pat_list.match(names)\n",
    "    match_2 = pat_list2.match(names)\n",
    "    if match:\n",
    "        print(match.group())\n",
    "    elif match_2:\n",
    "        print(match_2.group())\n",
    "    else:\n",
    "        print(\"None\")\n",
    "    \n",
    "\n",
    "    \n"
   ]
  },
  {
   "cell_type": "code",
   "execution_count": null,
   "id": "60b8b215",
   "metadata": {},
   "outputs": [],
   "source": []
  },
  {
   "cell_type": "code",
   "execution_count": null,
   "id": "9b895465",
   "metadata": {},
   "outputs": [],
   "source": []
  },
  {
   "cell_type": "code",
   "execution_count": null,
   "id": "54aba278",
   "metadata": {},
   "outputs": [],
   "source": []
  }
 ],
 "metadata": {
  "kernelspec": {
   "display_name": "Python 3 (ipykernel)",
   "language": "python",
   "name": "python3"
  },
  "language_info": {
   "codemirror_mode": {
    "name": "ipython",
    "version": 3
   },
   "file_extension": ".py",
   "mimetype": "text/x-python",
   "name": "python",
   "nbconvert_exporter": "python",
   "pygments_lexer": "ipython3",
   "version": "3.9.12"
  }
 },
 "nbformat": 4,
 "nbformat_minor": 5
}
